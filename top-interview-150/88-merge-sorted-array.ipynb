{
 "cells": [
  {
   "cell_type": "markdown",
   "metadata": {},
   "source": [
    "# LeetCode Problem 88: Merge Sorted Array\n",
    "## Problem Statement\n",
    "\n",
    "You are given two integer arrays `nums1` and `nums2`, sorted in non-decreasing order, and two integers `m` and `n`, representing the number of elements in `nums1` and `nums2` respectively.\n",
    "\n",
    "Merge `nums1` and `nums2` into a single array sorted in non-decreasing order.\n",
    "\n",
    "The final sorted array should not be returned by the function, but instead be stored inside the array `nums1`. To accommodate this, `nums1` has a length of `m + n`, where the first `m` elements denote the elements that should be merged, and the last `n` elements are set to 0 and should be ignored. `nums2` has a length of `n`.\n",
    "\n",
    "### Examples\n",
    "\n",
    "**Example 1:**\n",
    "\n",
    "Input: `nums1 = [1,2,3,0,0,0]`, `m = 3`, `nums2 = [2,5,6]`, `n = 3`\n",
    "Output: `[1,2,2,3,5,6]`\n",
    "Explanation: The arrays we are merging are `[1, 2, 3]` and `[2, 5, 6]`.\n",
    "The result of the merge is `[1, 2, 2, 3, 5, 6]` with the underlined elements coming from `nums1`.\n",
    "\n",
    "**Example 2:**\n",
    "\n",
    "Input: `nums1 = [1]`, `m = 1`, `nums2 = []`, `n = 0`\n",
    "Output: `[1]`\n",
    "Explanation: The arrays we are merging are `[1]` and `[]`.\n",
    "The result of the merge is `[1]`.\n",
    "\n",
    "**Example 3:**\n",
    "\n",
    "Input: `nums1 = [0]`, `m = 0`, `nums2 = [1]`, `n = 1`\n",
    "Output: `[1]`\n",
    "Explanation: The arrays we are merging are `[]` and `[1]`.\n",
    "The result of the merge is `[1]`.\n",
    "Note that because `m = 0`, there are no elements in `nums1`. The 0 is only there to ensure the merge result can fit in `nums1`.\n",
    "\n",
    "### Constraints\n",
    "\n",
    "- `nums1.length == m + n`\n",
    "- `nums2.length == n`\n",
    "- `0 <= m, n <= 200`\n",
    "- `1 <= m + n <= 200`\n",
    "- `-10^9 <= nums1[i], nums2[j] <= 10^9`\n",
    "\n",
    "### Follow-up\n",
    "\n",
    "Can you come up with an algorithm that runs in O(m + n) time?\n"
   ]
  },
  {
   "cell_type": "markdown",
   "metadata": {},
   "source": [
    "## Solution Explanation\n",
    "\n",
    "The problem requires merging two sorted arrays, `nums1` and `nums2`, into `nums1` such that `nums1` remains sorted. Given the constraints, we must perform the merge in-place and in O(m + n) time complexity.\n",
    "\n",
    "### Approach\n",
    "\n",
    "1. **Pointers Initialization**:\n",
    "   - Use three pointers `p1`, `p2`, and `p`. \n",
    "   - `p1` is initialized to `m - 1` pointing to the last element of the initial part of `nums1`.\n",
    "   - `p2` is initialized to `n - 1` pointing to the last element of `nums2`.\n",
    "   - `p` is initialized to `m + n - 1` pointing to the last position of `nums1`.\n",
    "\n",
    "2. **Merge in Reverse**:\n",
    "   - Start from the end of `nums1` and `nums2` and move backward.\n",
    "   - Compare elements from `nums1` and `nums2` and place the larger element at the position pointed by `p`.\n",
    "   - Move the pointer (`p1` or `p2`) and the position pointer (`p`) accordingly.\n",
    "\n",
    "3. **Remaining Elements**:\n",
    "   - If there are remaining elements in `nums2` that haven't been copied to `nums1`, copy them.\n",
    "   - No need to check for remaining elements in `nums1` because they are already in place.\n"
   ]
  },
  {
   "cell_type": "code",
   "execution_count": 1,
   "metadata": {},
   "outputs": [
    {
     "name": "stdout",
     "output_type": "stream",
     "text": [
      "[1, 2, 2, 3, 5, 6]\n"
     ]
    }
   ],
   "source": [
    "from typing import List\n",
    "\n",
    "class Solution:\n",
    "    def merge(self, nums1: List[int], m: int, nums2: List[int], n: int) -> None:\n",
    "        \"\"\"\n",
    "        Do not return anything, modify nums1 in-place instead.\n",
    "        \"\"\"\n",
    "        p1 = m - 1\n",
    "        p2 = n - 1\n",
    "        p = m + n - 1\n",
    "\n",
    "        while p2 >= 0:\n",
    "            if p1 >= 0 and nums1[p1] > nums2[p2]:\n",
    "                nums1[p] = nums1[p1]\n",
    "                p1 -= 1\n",
    "            else:\n",
    "                nums1[p] = nums2[p2]\n",
    "                p2 -= 1\n",
    "            p -= 1\n",
    "\n",
    "# Example usage:\n",
    "nums1 = [1,2,3,0,0,0]\n",
    "m = 3\n",
    "nums2 = [2,5,6]\n",
    "n = 3\n",
    "Solution().merge(nums1, m, nums2, n)\n",
    "print(nums1)  # Output should be [1, 2, 2, 3, 5, 6]\n"
   ]
  },
  {
   "cell_type": "markdown",
   "metadata": {},
   "source": [
    "## Time and Space Complexity Analysis\n",
    "\n",
    "### Time Complexity\n",
    "\n",
    "The given solution processes each element of `nums1` and `nums2` exactly once, which makes the time complexity O(m + n), where:\n",
    "- `m` is the number of elements initially in `nums1`.\n",
    "- `n` is the number of elements in `nums2`.\n",
    "\n",
    "Here's a step-by-step breakdown:\n",
    "1. We start by initializing three pointers: `p1`, `p2`, and `p`.\n",
    "2. The while loop runs until all elements in `nums2` are processed (`p2 >= 0`).\n",
    "3. Inside the while loop:\n",
    "   - Each iteration compares the elements pointed to by `p1` and `p2`.\n",
    "   - The larger element is placed at the position pointed to by `p`.\n",
    "   - The pointers `p1`, `p2`, and `p` are then adjusted accordingly.\n",
    "\n",
    "Since each comparison and element placement operation takes constant time, and we perform these operations `m + n` times, the overall time complexity is O(m + n).\n",
    "\n",
    "### Space Complexity\n",
    "\n",
    "The space complexity of the solution is O(1) because:\n",
    "- We are modifying `nums1` in-place without using any extra space proportional to the input size.\n",
    "- Only a fixed amount of additional space is used for the pointers `p1`, `p2`, and `p`.\n",
    "\n",
    "Here's a step-by-step breakdown:\n",
    "1. The array `nums1` is modified directly, so no additional arrays or large data structures are used.\n",
    "2. Only a few integer variables (the pointers) are used to keep track of positions within the arrays.\n",
    "\n",
    "Therefore, the space complexity is constant, O(1).\n"
   ]
  }
 ],
 "metadata": {
  "kernelspec": {
   "display_name": "venv",
   "language": "python",
   "name": "python3"
  },
  "language_info": {
   "codemirror_mode": {
    "name": "ipython",
    "version": 3
   },
   "file_extension": ".py",
   "mimetype": "text/x-python",
   "name": "python",
   "nbconvert_exporter": "python",
   "pygments_lexer": "ipython3",
   "version": "3.12.3"
  }
 },
 "nbformat": 4,
 "nbformat_minor": 2
}
